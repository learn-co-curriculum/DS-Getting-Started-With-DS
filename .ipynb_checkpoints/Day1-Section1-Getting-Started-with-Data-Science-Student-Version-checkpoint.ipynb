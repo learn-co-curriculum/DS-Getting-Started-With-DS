{
 "cells": [
  {
   "cell_type": "markdown",
   "metadata": {
    "slideshow": {
     "slide_type": "slide"
    }
   },
   "source": [
    "# Welcome!\n",
    "\n",
    "<img src=\"images/flatiron_students.png\">"
   ]
  },
  {
   "cell_type": "markdown",
   "metadata": {
    "slideshow": {
     "slide_type": "slide"
    }
   },
   "source": [
    "## Agenda\n",
    "\n",
    "* Welcome / Introductions\n",
    "* Exploring the Data Science Process\n",
    "* Learn - Individual work time\n",
    "* Class Programming Exercise / Discussion\n",
    "\n",
    "## Learning Goals\n",
    "\n",
    "\n",
    "* Explain the classes of problems that data science can be used to solve\n",
    "* Describe the data science process\n",
    "* Navigate a Jupyter notebook\n",
    "* Activate a conda environment\n",
    "* Manipulate and traverse python data structures\n"
   ]
  },
  {
   "cell_type": "markdown",
   "metadata": {
    "slideshow": {
     "slide_type": "slide"
    }
   },
   "source": [
    "## Problem Scenario\n",
    "\n",
    "You are part of a team of contractors working ETL at a large train-related private/public partnership company. A VP knows you have a background in data science and comes up to you and says \"I want us to start using predictive analytics\". What do you say?"
   ]
  },
  {
   "cell_type": "markdown",
   "metadata": {
    "slideshow": {
     "slide_type": "slide"
    }
   },
   "source": [
    "## Data Science Workflows\n",
    "\n",
    "Break into groups. Each group should take one of the following articles. \n",
    "    \n",
    "- [Battle of the Data Science Venn Diagrams](https://www.kdnuggets.com/2016/10/battle-data-science-venn-diagrams.html)\n",
    "- [10 Data Analytics Success Stories: A Closer Look](https://www.cio.com/article/3221621/analytics/6-data-analytics-success-stories-an-inside-look.html)\n",
    "- [Supervised vs. Unsupervised Learning](https://towardsdatascience.com/supervised-vs-unsupervised-learning-14f68e32ea8d)\n",
    "- [Beyond Interactive: Notebook Innovation at Netflix](https://medium.com/netflix-techblog/notebook-innovation-591ee3221233)\n",
    "- [The 25 Best Data Visualizations of 2018](https://visme.co/blog/best-data-visualizations/)\n",
    "\n",
    "- [Video: “Full Stack” Data Science at Stitch Fix](https://www.youtube.com/watch?v=ErrHRMiNNXE) or [Stitch Fix Algorithms Tour](https://algorithms-tour.stitchfix.com/)  \n",
    "  \n",
    "For your article, answer the following:\n",
    "- Describe the data science process\n",
    "- Explain the classes of problems that data science can be used to solve\n",
    "- Define what makes a good data science question\n",
    "- List questions you can ask at the start of the process"
   ]
  },
  {
   "cell_type": "markdown",
   "metadata": {
    "slideshow": {
     "slide_type": "slide"
    }
   },
   "source": [
    "## Independent Work Time\n",
    "\n",
    "Great! Now take some time and continue to get orientated by working through some of the introductory lessons on Learn!\n",
    "\n",
    "<img src=\"images/learn.png\">"
   ]
  }
 ],
 "metadata": {
  "celltoolbar": "Slideshow",
  "kernelspec": {
   "display_name": "Python 3",
   "language": "python",
   "name": "python3"
  },
  "language_info": {
   "codemirror_mode": {
    "name": "ipython",
    "version": 3
   },
   "file_extension": ".py",
   "mimetype": "text/x-python",
   "name": "python",
   "nbconvert_exporter": "python",
   "pygments_lexer": "ipython3",
   "version": "3.6.5"
  }
 },
 "nbformat": 4,
 "nbformat_minor": 2
}
